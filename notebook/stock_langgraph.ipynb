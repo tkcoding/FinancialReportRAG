{
 "cells": [
  {
   "cell_type": "code",
   "execution_count": 1,
   "id": "51c91431",
   "metadata": {},
   "outputs": [
    {
     "name": "stdout",
     "output_type": "stream",
     "text": [
      "Requirement already satisfied: langchain-community in /Library/Frameworks/Python.framework/Versions/3.9/lib/python3.9/site-packages (0.2.2)\n",
      "Collecting langchain-community\n",
      "  Downloading langchain_community-0.2.5-py3-none-any.whl.metadata (2.5 kB)\n",
      "Collecting tavily-python\n",
      "  Downloading tavily_python-0.3.3-py3-none-any.whl.metadata (4.4 kB)\n",
      "Requirement already satisfied: PyYAML>=5.3 in /Library/Frameworks/Python.framework/Versions/3.9/lib/python3.9/site-packages (from langchain-community) (6.0.1)\n",
      "Requirement already satisfied: SQLAlchemy<3,>=1.4 in /Library/Frameworks/Python.framework/Versions/3.9/lib/python3.9/site-packages (from langchain-community) (2.0.23)\n",
      "Requirement already satisfied: aiohttp<4.0.0,>=3.8.3 in /Library/Frameworks/Python.framework/Versions/3.9/lib/python3.9/site-packages (from langchain-community) (3.9.5)\n",
      "Requirement already satisfied: dataclasses-json<0.7,>=0.5.7 in /Library/Frameworks/Python.framework/Versions/3.9/lib/python3.9/site-packages (from langchain-community) (0.6.3)\n",
      "Collecting langchain<0.3.0,>=0.2.5 (from langchain-community)\n",
      "  Downloading langchain-0.2.5-py3-none-any.whl.metadata (7.0 kB)\n",
      "Collecting langchain-core<0.3.0,>=0.2.7 (from langchain-community)\n",
      "  Downloading langchain_core-0.2.9-py3-none-any.whl.metadata (6.0 kB)\n",
      "Requirement already satisfied: langsmith<0.2.0,>=0.1.0 in /Library/Frameworks/Python.framework/Versions/3.9/lib/python3.9/site-packages (from langchain-community) (0.1.71)\n",
      "Requirement already satisfied: numpy<2,>=1 in /Library/Frameworks/Python.framework/Versions/3.9/lib/python3.9/site-packages (from langchain-community) (1.26.4)\n",
      "Requirement already satisfied: requests<3,>=2 in /Library/Frameworks/Python.framework/Versions/3.9/lib/python3.9/site-packages (from langchain-community) (2.31.0)\n",
      "Requirement already satisfied: tenacity<9.0.0,>=8.1.0 in /Library/Frameworks/Python.framework/Versions/3.9/lib/python3.9/site-packages (from langchain-community) (8.2.3)\n",
      "Requirement already satisfied: tiktoken<1,>=0.5.2 in /Library/Frameworks/Python.framework/Versions/3.9/lib/python3.9/site-packages (from tavily-python) (0.6.0)\n",
      "Requirement already satisfied: aiosignal>=1.1.2 in /Library/Frameworks/Python.framework/Versions/3.9/lib/python3.9/site-packages (from aiohttp<4.0.0,>=3.8.3->langchain-community) (1.3.1)\n",
      "Requirement already satisfied: attrs>=17.3.0 in /Library/Frameworks/Python.framework/Versions/3.9/lib/python3.9/site-packages (from aiohttp<4.0.0,>=3.8.3->langchain-community) (21.4.0)\n",
      "Requirement already satisfied: frozenlist>=1.1.1 in /Library/Frameworks/Python.framework/Versions/3.9/lib/python3.9/site-packages (from aiohttp<4.0.0,>=3.8.3->langchain-community) (1.3.3)\n",
      "Requirement already satisfied: multidict<7.0,>=4.5 in /Library/Frameworks/Python.framework/Versions/3.9/lib/python3.9/site-packages (from aiohttp<4.0.0,>=3.8.3->langchain-community) (6.0.4)\n",
      "Requirement already satisfied: yarl<2.0,>=1.0 in /Library/Frameworks/Python.framework/Versions/3.9/lib/python3.9/site-packages (from aiohttp<4.0.0,>=3.8.3->langchain-community) (1.8.2)\n",
      "Requirement already satisfied: async-timeout<5.0,>=4.0 in /Library/Frameworks/Python.framework/Versions/3.9/lib/python3.9/site-packages (from aiohttp<4.0.0,>=3.8.3->langchain-community) (4.0.2)\n",
      "Requirement already satisfied: marshmallow<4.0.0,>=3.18.0 in /Library/Frameworks/Python.framework/Versions/3.9/lib/python3.9/site-packages (from dataclasses-json<0.7,>=0.5.7->langchain-community) (3.20.1)\n",
      "Requirement already satisfied: typing-inspect<1,>=0.4.0 in /Library/Frameworks/Python.framework/Versions/3.9/lib/python3.9/site-packages (from dataclasses-json<0.7,>=0.5.7->langchain-community) (0.9.0)\n",
      "Requirement already satisfied: langchain-text-splitters<0.3.0,>=0.2.0 in /Library/Frameworks/Python.framework/Versions/3.9/lib/python3.9/site-packages (from langchain<0.3.0,>=0.2.5->langchain-community) (0.2.1)\n",
      "Requirement already satisfied: pydantic<3,>=1 in /Library/Frameworks/Python.framework/Versions/3.9/lib/python3.9/site-packages (from langchain<0.3.0,>=0.2.5->langchain-community) (2.7.4)\n",
      "Requirement already satisfied: jsonpatch<2.0,>=1.33 in /Library/Frameworks/Python.framework/Versions/3.9/lib/python3.9/site-packages (from langchain-core<0.3.0,>=0.2.7->langchain-community) (1.33)\n",
      "Collecting langsmith<0.2.0,>=0.1.0 (from langchain-community)\n",
      "  Downloading langsmith-0.1.80-py3-none-any.whl.metadata (13 kB)\n",
      "Requirement already satisfied: packaging<25,>=23.2 in /Library/Frameworks/Python.framework/Versions/3.9/lib/python3.9/site-packages (from langchain-core<0.3.0,>=0.2.7->langchain-community) (23.2)\n",
      "Requirement already satisfied: orjson<4.0.0,>=3.9.14 in /Library/Frameworks/Python.framework/Versions/3.9/lib/python3.9/site-packages (from langsmith<0.2.0,>=0.1.0->langchain-community) (3.10.1)\n",
      "Requirement already satisfied: charset-normalizer<4,>=2 in /Library/Frameworks/Python.framework/Versions/3.9/lib/python3.9/site-packages (from requests<3,>=2->langchain-community) (2.0.12)\n",
      "Requirement already satisfied: idna<4,>=2.5 in /Library/Frameworks/Python.framework/Versions/3.9/lib/python3.9/site-packages (from requests<3,>=2->langchain-community) (3.7)\n",
      "Requirement already satisfied: urllib3<3,>=1.21.1 in /Library/Frameworks/Python.framework/Versions/3.9/lib/python3.9/site-packages (from requests<3,>=2->langchain-community) (1.26.14)\n",
      "Requirement already satisfied: certifi>=2017.4.17 in /Library/Frameworks/Python.framework/Versions/3.9/lib/python3.9/site-packages (from requests<3,>=2->langchain-community) (2024.6.2)\n",
      "Requirement already satisfied: typing-extensions>=4.2.0 in /Library/Frameworks/Python.framework/Versions/3.9/lib/python3.9/site-packages (from SQLAlchemy<3,>=1.4->langchain-community) (4.12.2)\n",
      "Requirement already satisfied: regex>=2022.1.18 in /Library/Frameworks/Python.framework/Versions/3.9/lib/python3.9/site-packages (from tiktoken<1,>=0.5.2->tavily-python) (2022.10.31)\n",
      "Requirement already satisfied: jsonpointer>=1.9 in /Library/Frameworks/Python.framework/Versions/3.9/lib/python3.9/site-packages (from jsonpatch<2.0,>=1.33->langchain-core<0.3.0,>=0.2.7->langchain-community) (2.4)\n",
      "Requirement already satisfied: annotated-types>=0.4.0 in /Library/Frameworks/Python.framework/Versions/3.9/lib/python3.9/site-packages (from pydantic<3,>=1->langchain<0.3.0,>=0.2.5->langchain-community) (0.7.0)\n",
      "Requirement already satisfied: pydantic-core==2.18.4 in /Library/Frameworks/Python.framework/Versions/3.9/lib/python3.9/site-packages (from pydantic<3,>=1->langchain<0.3.0,>=0.2.5->langchain-community) (2.18.4)\n",
      "Requirement already satisfied: mypy-extensions>=0.3.0 in /Library/Frameworks/Python.framework/Versions/3.9/lib/python3.9/site-packages (from typing-inspect<1,>=0.4.0->dataclasses-json<0.7,>=0.5.7->langchain-community) (1.0.0)\n",
      "Downloading langchain_community-0.2.5-py3-none-any.whl (2.2 MB)\n",
      "\u001b[2K   \u001b[38;2;114;156;31m━━━━━━━━━━━━━━━━━━━━━━━━━━━━━━━━━━━━━━━━\u001b[0m \u001b[32m2.2/2.2 MB\u001b[0m \u001b[31m14.0 MB/s\u001b[0m eta \u001b[36m0:00:00\u001b[0mm eta \u001b[36m0:00:01\u001b[0m[36m0:00:01\u001b[0m\n",
      "\u001b[?25hDownloading tavily_python-0.3.3-py3-none-any.whl (5.4 kB)\n",
      "Downloading langchain-0.2.5-py3-none-any.whl (974 kB)\n",
      "\u001b[2K   \u001b[38;2;114;156;31m━━━━━━━━━━━━━━━━━━━━━━━━━━━━━━━━━━━━━━━━\u001b[0m \u001b[32m974.6/974.6 kB\u001b[0m \u001b[31m21.1 MB/s\u001b[0m eta \u001b[36m0:00:00\u001b[0mm eta \u001b[36m0:00:01\u001b[0m\n",
      "\u001b[?25hDownloading langchain_core-0.2.9-py3-none-any.whl (321 kB)\n",
      "\u001b[2K   \u001b[38;2;114;156;31m━━━━━━━━━━━━━━━━━━━━━━━━━━━━━━━━━━━━━━━━\u001b[0m \u001b[32m321.8/321.8 kB\u001b[0m \u001b[31m24.4 MB/s\u001b[0m eta \u001b[36m0:00:00\u001b[0m\n",
      "\u001b[?25hDownloading langsmith-0.1.80-py3-none-any.whl (125 kB)\n",
      "\u001b[2K   \u001b[38;2;114;156;31m━━━━━━━━━━━━━━━━━━━━━━━━━━━━━━━━━━━━━━━━\u001b[0m \u001b[32m125.3/125.3 kB\u001b[0m \u001b[31m10.7 MB/s\u001b[0m eta \u001b[36m0:00:00\u001b[0m\n",
      "\u001b[?25hInstalling collected packages: tavily-python, langsmith, langchain-core, langchain, langchain-community\n",
      "  Attempting uninstall: langsmith\n",
      "    Found existing installation: langsmith 0.1.71\n",
      "    Uninstalling langsmith-0.1.71:\n",
      "      Successfully uninstalled langsmith-0.1.71\n",
      "  Attempting uninstall: langchain-core\n",
      "    Found existing installation: langchain-core 0.2.4\n",
      "    Uninstalling langchain-core-0.2.4:\n",
      "      Successfully uninstalled langchain-core-0.2.4\n",
      "  Attempting uninstall: langchain\n",
      "    Found existing installation: langchain 0.2.2\n",
      "    Uninstalling langchain-0.2.2:\n",
      "      Successfully uninstalled langchain-0.2.2\n"
     ]
    },
    {
     "name": "stdout",
     "output_type": "stream",
     "text": [
      "  Attempting uninstall: langchain-community\n",
      "    Found existing installation: langchain-community 0.2.2\n",
      "    Uninstalling langchain-community-0.2.2:\n",
      "      Successfully uninstalled langchain-community-0.2.2\n",
      "\u001b[31mERROR: pip's dependency resolver does not currently take into account all the packages that are installed. This behaviour is the source of the following dependency conflicts.\n",
      "langchain-chroma 0.1.0 requires chromadb<0.5.0,>=0.4.0, but you have chromadb 0.5.0 which is incompatible.\n",
      "langchain-chroma 0.1.0 requires langchain-core<0.2.0,>=0.1.40, but you have langchain-core 0.2.9 which is incompatible.\n",
      "langchain-openai 0.1.3 requires langchain-core<0.2.0,>=0.1.42, but you have langchain-core 0.2.9 which is incompatible.\n",
      "langchain-openai 0.1.3 requires openai<2.0.0,>=1.10.0, but you have openai 1.1.1 which is incompatible.\u001b[0m\u001b[31m\n",
      "\u001b[0mSuccessfully installed langchain-0.2.5 langchain-community-0.2.5 langchain-core-0.2.9 langsmith-0.1.80 tavily-python-0.3.3\n"
     ]
    }
   ],
   "source": [
    "!pip install -U langchain-community tavily-python\n",
    "!pip install -U langchain-openai langchainhub\n",
    "!pip install langgraph"
   ]
  },
  {
   "cell_type": "code",
   "execution_count": 2,
   "id": "66fd23eb",
   "metadata": {},
   "outputs": [
    {
     "name": "stdout",
     "output_type": "stream",
     "text": [
      "········\n"
     ]
    }
   ],
   "source": [
    "import getpass\n",
    "import os\n",
    "\n",
    "os.environ[\"TAVILY_API_KEY\"] = getpass.getpass()"
   ]
  },
  {
   "cell_type": "code",
   "execution_count": 11,
   "id": "cba1d0d6",
   "metadata": {},
   "outputs": [],
   "source": [
    "os.environ[\"OPENAI_API_KEY\"] = \"<ENTER YOUR OPENAI KEY>\"\n",
    "\n"
   ]
  },
  {
   "cell_type": "code",
   "execution_count": 20,
   "id": "f631d231",
   "metadata": {},
   "outputs": [],
   "source": [
    "from langgraph.graph import StateGraph, END\n",
    "from typing import TypedDict, Annotated\n",
    "import operator\n",
    "from langchain_core.messages import AnyMessage, SystemMessage, HumanMessage, ToolMessage\n",
    "from langchain_openai import ChatOpenAI\n",
    "from langchain_community.tools.tavily_search import TavilySearchResults\n",
    "from langgraph.checkpoint.sqlite import SqliteSaver\n",
    "\n",
    "memory = SqliteSaver.from_conn_string(\":memory:\")"
   ]
  },
  {
   "cell_type": "code",
   "execution_count": 21,
   "id": "f585e639",
   "metadata": {},
   "outputs": [],
   "source": [
    "from uuid import uuid4\n",
    "from langchain_core.messages import AnyMessage, SystemMessage, HumanMessage, AIMessage\n",
    "\n",
    "\"\"\"\n",
    "In previous examples we've annotated the `messages` state key\n",
    "with the default `operator.add` or `+` reducer, which always\n",
    "appends new messages to the end of the existing messages array.\n",
    "\n",
    "Now, to support replacing existing messages, we annotate the\n",
    "`messages` key with a customer reducer function, which replaces\n",
    "messages with the same `id`, and appends them otherwise.\n",
    "\"\"\"\n",
    "def reduce_messages(left: list[AnyMessage], right: list[AnyMessage]) -> list[AnyMessage]:\n",
    "    # assign ids to messages that don't have them\n",
    "    for message in right:\n",
    "        if not message.id:\n",
    "            message.id = str(uuid4())\n",
    "    # merge the new messages with the existing messages\n",
    "    merged = left.copy()\n",
    "    for message in right:\n",
    "        for i, existing in enumerate(merged):\n",
    "            # replace any existing messages with the same id\n",
    "            if existing.id == message.id:\n",
    "                merged[i] = message\n",
    "                break\n",
    "        else:\n",
    "            # append any new messages to the end\n",
    "            merged.append(message)\n",
    "    return merged\n",
    "\n",
    "class AgentState(TypedDict):\n",
    "    messages: Annotated[list[AnyMessage], reduce_messages]"
   ]
  },
  {
   "cell_type": "code",
   "execution_count": 22,
   "id": "86b4a4c4",
   "metadata": {},
   "outputs": [],
   "source": [
    "tool = TavilySearchResults(max_results=2)"
   ]
  },
  {
   "cell_type": "code",
   "execution_count": 23,
   "id": "c44077c6",
   "metadata": {},
   "outputs": [],
   "source": [
    "class Agent:\n",
    "    def __init__(self, model, tools, system=\"\", checkpointer=None):\n",
    "        self.system = system\n",
    "        graph = StateGraph(AgentState)\n",
    "        graph.add_node(\"llm\", self.call_openai)\n",
    "        graph.add_node(\"action\", self.take_action)\n",
    "        graph.add_conditional_edges(\"llm\", self.exists_action, {True: \"action\", False: END})\n",
    "        graph.add_edge(\"action\", \"llm\")\n",
    "        graph.set_entry_point(\"llm\")\n",
    "        self.graph = graph.compile(\n",
    "            checkpointer=checkpointer,\n",
    "            interrupt_before=[\"action\"]\n",
    "        )\n",
    "        self.tools = {t.name: t for t in tools}\n",
    "        self.model = model.bind_tools(tools)\n",
    "\n",
    "    def call_openai(self, state: AgentState):\n",
    "        messages = state['messages']\n",
    "        if self.system:\n",
    "            messages = [SystemMessage(content=self.system)] + messages\n",
    "        message = self.model.invoke(messages)\n",
    "        return {'messages': [message]}\n",
    "\n",
    "    def exists_action(self, state: AgentState):\n",
    "        print(state)\n",
    "        result = state['messages'][-1]\n",
    "        return len(result.tool_calls) > 0\n",
    "\n",
    "    def take_action(self, state: AgentState):\n",
    "        tool_calls = state['messages'][-1].tool_calls\n",
    "        results = []\n",
    "        for t in tool_calls:\n",
    "            print(f\"Calling: {t}\")\n",
    "            result = self.tools[t['name']].invoke(t['args'])\n",
    "            results.append(ToolMessage(tool_call_id=t['id'], name=t['name'], content=str(result)))\n",
    "        print(\"Back to the model!\")\n",
    "        return {'messages': results}"
   ]
  },
  {
   "cell_type": "code",
   "execution_count": 34,
   "id": "f90a37a5",
   "metadata": {},
   "outputs": [],
   "source": [
    "prompt = \"\"\"You are a stock analysts expert. Use the search engine to look up information. \\\n",
    "You are allowed to make multiple calls (either together or in sequence). \\\n",
    "Only look up information when you are sure of what you want. \\\n",
    "If you need to look up some information before asking a follow up question, you are allowed to do that!\n",
    "\"\"\"\n",
    "model = ChatOpenAI(model=\"gpt-3.5-turbo\")\n",
    "abot = Agent(model, [tool], system=prompt, checkpointer=memory)\n",
    "\n"
   ]
  },
  {
   "cell_type": "code",
   "execution_count": 39,
   "id": "10a1b47a",
   "metadata": {},
   "outputs": [
    {
     "name": "stdout",
     "output_type": "stream",
     "text": [
      "{'messages': [HumanMessage(content='What is the best dividend stock in Malaysia KLCI ?', id='599c3927-eab1-4721-a618-57d7d01eb2e5'), AIMessage(content='', additional_kwargs={'tool_calls': [{'id': 'call_igx3DdNw0QlVWDK1rQFgABpV', 'function': {'arguments': '{\"query\":\"best dividend stock in Malaysia KLCI\"}', 'name': 'tavily_search_results_json'}, 'type': 'function'}]}, response_metadata={'token_usage': {'completion_tokens': 25, 'prompt_tokens': 158, 'total_tokens': 183}, 'model_name': 'gpt-3.5-turbo', 'system_fingerprint': None, 'finish_reason': 'tool_calls', 'logprobs': None}, id='run-d1984275-2527-4a08-a3b2-87e05fc6c7a7-0', tool_calls=[{'name': 'tavily_search_results_json', 'args': {'query': 'best dividend stock in Malaysia KLCI'}, 'id': 'call_igx3DdNw0QlVWDK1rQFgABpV'}]), ToolMessage(content=\"[{'url': 'http://www.dividendsranking.com/Index/FBMKLCI.php', 'content': 'FTSE Bursa Malaysia KLCI best dividend stocks and full list ranked by diviend yield ( Malaysia 4.34% average) It can be seen, (Banks) - (Banks) - (Travel and Leisure) - are the companies that currently pay a higher dividend in the FTSE Bursa Malaysia Kuala Lumpur Composite Index, offering returns of 7.13% - 6.37% - 5.84% - respectively.'}, {'url': 'https://biztechcommunity.com/stocks-trading/blue-chip-stocks-malaysia/', 'content': '3. Petronas Gas Berhad (PETRONAS) (6033) Dividend Yield: 4.40%. Market Capitalization: 33.48 billion MYR Contribution to KLCI: Between 30% to 50%. About Petronas Gas Berhad: Petronas Gas Bhd (PGB) is a gas infrastructure and utility company based in Kuala Lumpur, Malaysia and a subsidiary of Petroliam Nasional Bhd. PGB processes, transports, and re-gasifies natural gas and LNG, supplying ...'}]\", name='tavily_search_results_json', id='07adbe8b-450a-4677-bc76-5fefe3aced23', tool_call_id='call_igx3DdNw0QlVWDK1rQFgABpV'), AIMessage(content=\"Two sources mention different dividend stocks in Malaysia KLCI:\\n\\n1. **FTSE Bursa Malaysia KLCI**: The top dividend-paying sectors in the FTSE Bursa Malaysia Kuala Lumpur Composite Index are banks and travel and leisure companies. Banks are offering returns of 7.13%, and travel and leisure companies are offering returns of 6.37% and 5.84% respectively.\\n\\n2. **Petronas Gas Berhad (PETRONAS)**: This company has a dividend yield of 4.40% and a market capitalization of 33.48 billion MYR. It contributes between 30% to 50% to KLCI. Petronas Gas Berhad is a gas infrastructure and utility company based in Kuala Lumpur, Malaysia, and a subsidiary of Petroliam Nasional Bhd. It processes, transports, and re-gasifies natural gas and LNG.\\n\\nThese are some of the top dividend stocks in Malaysia's KLCI based on the search results.\", response_metadata={'token_usage': {'completion_tokens': 206, 'prompt_tokens': 458, 'total_tokens': 664}, 'model_name': 'gpt-3.5-turbo', 'system_fingerprint': None, 'finish_reason': 'stop', 'logprobs': None}, id='run-18565ea5-0291-4975-aa9b-d239ccd5331e-0'), HumanMessage(content='What is the highest average dividend stock in Malaysia KLCI for the past 3 years?', id='c6d81370-f17e-4a47-9d3a-1abef7d3b723'), AIMessage(content='', additional_kwargs={'tool_calls': [{'id': 'call_2VS5gXhuDTAASzxctQF3yIUv', 'function': {'arguments': '{\"query\":\"highest average dividend stock in Malaysia KLCI for the past 3 years\"}', 'name': 'tavily_search_results_json'}, 'type': 'function'}]}, response_metadata={'token_usage': {'completion_tokens': 32, 'prompt_tokens': 690, 'total_tokens': 722}, 'model_name': 'gpt-3.5-turbo', 'system_fingerprint': None, 'finish_reason': 'tool_calls', 'logprobs': None}, id='run-de7e59ff-35c0-4d55-bec7-7c4f4e76ec15-0', tool_calls=[{'name': 'tavily_search_results_json', 'args': {'query': 'highest average dividend stock in Malaysia KLCI for the past 3 years'}, 'id': 'call_2VS5gXhuDTAASzxctQF3yIUv'}])]}\n",
      "{'messages': [AIMessage(content='', additional_kwargs={'tool_calls': [{'id': 'call_2VS5gXhuDTAASzxctQF3yIUv', 'function': {'arguments': '{\"query\":\"highest average dividend stock in Malaysia KLCI for the past 3 years\"}', 'name': 'tavily_search_results_json'}, 'type': 'function'}]}, response_metadata={'token_usage': {'completion_tokens': 32, 'prompt_tokens': 690, 'total_tokens': 722}, 'model_name': 'gpt-3.5-turbo', 'system_fingerprint': None, 'finish_reason': 'tool_calls', 'logprobs': None}, id='run-de7e59ff-35c0-4d55-bec7-7c4f4e76ec15-0', tool_calls=[{'name': 'tavily_search_results_json', 'args': {'query': 'highest average dividend stock in Malaysia KLCI for the past 3 years'}, 'id': 'call_2VS5gXhuDTAASzxctQF3yIUv'}])]}\n"
     ]
    }
   ],
   "source": [
    "messages = [HumanMessage(content=\"What is the highest average dividend stock in Malaysia KLCI for the past 3 years?\")]\n",
    "thread = {\"configurable\": {\"thread_id\": \"2\"}}\n",
    "for event in abot.graph.stream({\"messages\": messages}, thread):\n",
    "    for v in event.values():\n",
    "        print(v)"
   ]
  },
  {
   "cell_type": "code",
   "execution_count": 40,
   "id": "0c9746f5",
   "metadata": {
    "scrolled": true
   },
   "outputs": [
    {
     "data": {
      "text/plain": [
       "StateSnapshot(values={'messages': [HumanMessage(content='What is the best dividend stock in Malaysia KLCI ?', id='599c3927-eab1-4721-a618-57d7d01eb2e5'), AIMessage(content='', additional_kwargs={'tool_calls': [{'id': 'call_igx3DdNw0QlVWDK1rQFgABpV', 'function': {'arguments': '{\"query\":\"best dividend stock in Malaysia KLCI\"}', 'name': 'tavily_search_results_json'}, 'type': 'function'}]}, response_metadata={'token_usage': {'completion_tokens': 25, 'prompt_tokens': 158, 'total_tokens': 183}, 'model_name': 'gpt-3.5-turbo', 'system_fingerprint': None, 'finish_reason': 'tool_calls', 'logprobs': None}, id='run-d1984275-2527-4a08-a3b2-87e05fc6c7a7-0', tool_calls=[{'name': 'tavily_search_results_json', 'args': {'query': 'best dividend stock in Malaysia KLCI'}, 'id': 'call_igx3DdNw0QlVWDK1rQFgABpV'}]), ToolMessage(content=\"[{'url': 'http://www.dividendsranking.com/Index/FBMKLCI.php', 'content': 'FTSE Bursa Malaysia KLCI best dividend stocks and full list ranked by diviend yield ( Malaysia 4.34% average) It can be seen, (Banks) - (Banks) - (Travel and Leisure) - are the companies that currently pay a higher dividend in the FTSE Bursa Malaysia Kuala Lumpur Composite Index, offering returns of 7.13% - 6.37% - 5.84% - respectively.'}, {'url': 'https://biztechcommunity.com/stocks-trading/blue-chip-stocks-malaysia/', 'content': '3. Petronas Gas Berhad (PETRONAS) (6033) Dividend Yield: 4.40%. Market Capitalization: 33.48 billion MYR Contribution to KLCI: Between 30% to 50%. About Petronas Gas Berhad: Petronas Gas Bhd (PGB) is a gas infrastructure and utility company based in Kuala Lumpur, Malaysia and a subsidiary of Petroliam Nasional Bhd. PGB processes, transports, and re-gasifies natural gas and LNG, supplying ...'}]\", name='tavily_search_results_json', id='07adbe8b-450a-4677-bc76-5fefe3aced23', tool_call_id='call_igx3DdNw0QlVWDK1rQFgABpV'), AIMessage(content=\"Two sources mention different dividend stocks in Malaysia KLCI:\\n\\n1. **FTSE Bursa Malaysia KLCI**: The top dividend-paying sectors in the FTSE Bursa Malaysia Kuala Lumpur Composite Index are banks and travel and leisure companies. Banks are offering returns of 7.13%, and travel and leisure companies are offering returns of 6.37% and 5.84% respectively.\\n\\n2. **Petronas Gas Berhad (PETRONAS)**: This company has a dividend yield of 4.40% and a market capitalization of 33.48 billion MYR. It contributes between 30% to 50% to KLCI. Petronas Gas Berhad is a gas infrastructure and utility company based in Kuala Lumpur, Malaysia, and a subsidiary of Petroliam Nasional Bhd. It processes, transports, and re-gasifies natural gas and LNG.\\n\\nThese are some of the top dividend stocks in Malaysia's KLCI based on the search results.\", response_metadata={'token_usage': {'completion_tokens': 206, 'prompt_tokens': 458, 'total_tokens': 664}, 'model_name': 'gpt-3.5-turbo', 'system_fingerprint': None, 'finish_reason': 'stop', 'logprobs': None}, id='run-18565ea5-0291-4975-aa9b-d239ccd5331e-0'), HumanMessage(content='What is the highest average dividend stock in Malaysia KLCI for the past 3 years?', id='c6d81370-f17e-4a47-9d3a-1abef7d3b723'), AIMessage(content='', additional_kwargs={'tool_calls': [{'id': 'call_2VS5gXhuDTAASzxctQF3yIUv', 'function': {'arguments': '{\"query\":\"highest average dividend stock in Malaysia KLCI for the past 3 years\"}', 'name': 'tavily_search_results_json'}, 'type': 'function'}]}, response_metadata={'token_usage': {'completion_tokens': 32, 'prompt_tokens': 690, 'total_tokens': 722}, 'model_name': 'gpt-3.5-turbo', 'system_fingerprint': None, 'finish_reason': 'tool_calls', 'logprobs': None}, id='run-de7e59ff-35c0-4d55-bec7-7c4f4e76ec15-0', tool_calls=[{'name': 'tavily_search_results_json', 'args': {'query': 'highest average dividend stock in Malaysia KLCI for the past 3 years'}, 'id': 'call_2VS5gXhuDTAASzxctQF3yIUv'}])]}, next=('action',), config={'configurable': {'thread_id': '2', 'thread_ts': '1ef2e112-83c7-62b2-8006-c3288fb82795'}}, metadata={'source': 'loop', 'step': 6, 'writes': {'llm': {'messages': [AIMessage(content='', additional_kwargs={'tool_calls': [{'id': 'call_2VS5gXhuDTAASzxctQF3yIUv', 'function': {'arguments': '{\"query\":\"highest average dividend stock in Malaysia KLCI for the past 3 years\"}', 'name': 'tavily_search_results_json'}, 'type': 'function'}]}, response_metadata={'token_usage': {'completion_tokens': 32, 'prompt_tokens': 690, 'total_tokens': 722}, 'model_name': 'gpt-3.5-turbo', 'system_fingerprint': None, 'finish_reason': 'tool_calls', 'logprobs': None}, id='run-de7e59ff-35c0-4d55-bec7-7c4f4e76ec15-0', tool_calls=[{'name': 'tavily_search_results_json', 'args': {'query': 'highest average dividend stock in Malaysia KLCI for the past 3 years'}, 'id': 'call_2VS5gXhuDTAASzxctQF3yIUv'}])]}}}, created_at='2024-06-19T07:54:29.614617+00:00', parent_config={'configurable': {'thread_id': '2', 'thread_ts': '1ef2e112-7871-666a-8005-aba73fbc5903'}})"
      ]
     },
     "execution_count": 40,
     "metadata": {},
     "output_type": "execute_result"
    }
   ],
   "source": [
    "abot.graph.get_state(thread)"
   ]
  },
  {
   "cell_type": "code",
   "execution_count": 41,
   "id": "9123ded0",
   "metadata": {},
   "outputs": [
    {
     "data": {
      "text/plain": [
       "('action',)"
      ]
     },
     "execution_count": 41,
     "metadata": {},
     "output_type": "execute_result"
    }
   ],
   "source": [
    "abot.graph.get_state(thread).next"
   ]
  },
  {
   "cell_type": "code",
   "execution_count": 42,
   "id": "0835fd4b",
   "metadata": {},
   "outputs": [
    {
     "name": "stdout",
     "output_type": "stream",
     "text": [
      "Calling: {'name': 'tavily_search_results_json', 'args': {'query': 'highest average dividend stock in Malaysia KLCI for the past 3 years'}, 'id': 'call_2VS5gXhuDTAASzxctQF3yIUv'}\n",
      "Back to the model!\n",
      "{'messages': [ToolMessage(content=\"[{'url': 'http://www.dividendsranking.com/Index/FBMKLCI.php', 'content': '08-31-2023. FTSE Bursa Malaysia KLCI best dividend stocks and full list ranked by diviend yield ( Malaysia 4.34% average) It can be seen, (Banks) - (Banks) - (Travel and Leisure) - are the companies that currently pay a higher dividend in the FTSE Bursa Malaysia Kuala Lumpur Composite Index, offering returns of 7.13% - 6.37% - 5.84% - respectively.'}, {'url': 'https://www.tradingview.com/markets/stocks-malaysia/market-movers-high-dividend/', 'content': 'Malaysian companies with the highest dividend yields. High dividends could signify a source of stable gains. Malaysian companies below pay the highest dividends in the market: see them sorted by forward dividend yield and check out other stats too. Some people pursue a strategy of investing in these dividend Malaysian stocks so they can get ...'}]\", name='tavily_search_results_json', tool_call_id='call_2VS5gXhuDTAASzxctQF3yIUv')]}\n",
      "{'messages': [HumanMessage(content='What is the best dividend stock in Malaysia KLCI ?', id='599c3927-eab1-4721-a618-57d7d01eb2e5'), AIMessage(content='', additional_kwargs={'tool_calls': [{'id': 'call_igx3DdNw0QlVWDK1rQFgABpV', 'function': {'arguments': '{\"query\":\"best dividend stock in Malaysia KLCI\"}', 'name': 'tavily_search_results_json'}, 'type': 'function'}]}, response_metadata={'token_usage': {'completion_tokens': 25, 'prompt_tokens': 158, 'total_tokens': 183}, 'model_name': 'gpt-3.5-turbo', 'system_fingerprint': None, 'finish_reason': 'tool_calls', 'logprobs': None}, id='run-d1984275-2527-4a08-a3b2-87e05fc6c7a7-0', tool_calls=[{'name': 'tavily_search_results_json', 'args': {'query': 'best dividend stock in Malaysia KLCI'}, 'id': 'call_igx3DdNw0QlVWDK1rQFgABpV'}]), ToolMessage(content=\"[{'url': 'http://www.dividendsranking.com/Index/FBMKLCI.php', 'content': 'FTSE Bursa Malaysia KLCI best dividend stocks and full list ranked by diviend yield ( Malaysia 4.34% average) It can be seen, (Banks) - (Banks) - (Travel and Leisure) - are the companies that currently pay a higher dividend in the FTSE Bursa Malaysia Kuala Lumpur Composite Index, offering returns of 7.13% - 6.37% - 5.84% - respectively.'}, {'url': 'https://biztechcommunity.com/stocks-trading/blue-chip-stocks-malaysia/', 'content': '3. Petronas Gas Berhad (PETRONAS) (6033) Dividend Yield: 4.40%. Market Capitalization: 33.48 billion MYR Contribution to KLCI: Between 30% to 50%. About Petronas Gas Berhad: Petronas Gas Bhd (PGB) is a gas infrastructure and utility company based in Kuala Lumpur, Malaysia and a subsidiary of Petroliam Nasional Bhd. PGB processes, transports, and re-gasifies natural gas and LNG, supplying ...'}]\", name='tavily_search_results_json', id='07adbe8b-450a-4677-bc76-5fefe3aced23', tool_call_id='call_igx3DdNw0QlVWDK1rQFgABpV'), AIMessage(content=\"Two sources mention different dividend stocks in Malaysia KLCI:\\n\\n1. **FTSE Bursa Malaysia KLCI**: The top dividend-paying sectors in the FTSE Bursa Malaysia Kuala Lumpur Composite Index are banks and travel and leisure companies. Banks are offering returns of 7.13%, and travel and leisure companies are offering returns of 6.37% and 5.84% respectively.\\n\\n2. **Petronas Gas Berhad (PETRONAS)**: This company has a dividend yield of 4.40% and a market capitalization of 33.48 billion MYR. It contributes between 30% to 50% to KLCI. Petronas Gas Berhad is a gas infrastructure and utility company based in Kuala Lumpur, Malaysia, and a subsidiary of Petroliam Nasional Bhd. It processes, transports, and re-gasifies natural gas and LNG.\\n\\nThese are some of the top dividend stocks in Malaysia's KLCI based on the search results.\", response_metadata={'token_usage': {'completion_tokens': 206, 'prompt_tokens': 458, 'total_tokens': 664}, 'model_name': 'gpt-3.5-turbo', 'system_fingerprint': None, 'finish_reason': 'stop', 'logprobs': None}, id='run-18565ea5-0291-4975-aa9b-d239ccd5331e-0'), HumanMessage(content='What is the highest average dividend stock in Malaysia KLCI for the past 3 years?', id='c6d81370-f17e-4a47-9d3a-1abef7d3b723'), AIMessage(content='', additional_kwargs={'tool_calls': [{'id': 'call_2VS5gXhuDTAASzxctQF3yIUv', 'function': {'arguments': '{\"query\":\"highest average dividend stock in Malaysia KLCI for the past 3 years\"}', 'name': 'tavily_search_results_json'}, 'type': 'function'}]}, response_metadata={'token_usage': {'completion_tokens': 32, 'prompt_tokens': 690, 'total_tokens': 722}, 'model_name': 'gpt-3.5-turbo', 'system_fingerprint': None, 'finish_reason': 'tool_calls', 'logprobs': None}, id='run-de7e59ff-35c0-4d55-bec7-7c4f4e76ec15-0', tool_calls=[{'name': 'tavily_search_results_json', 'args': {'query': 'highest average dividend stock in Malaysia KLCI for the past 3 years'}, 'id': 'call_2VS5gXhuDTAASzxctQF3yIUv'}]), ToolMessage(content=\"[{'url': 'http://www.dividendsranking.com/Index/FBMKLCI.php', 'content': '08-31-2023. FTSE Bursa Malaysia KLCI best dividend stocks and full list ranked by diviend yield ( Malaysia 4.34% average) It can be seen, (Banks) - (Banks) - (Travel and Leisure) - are the companies that currently pay a higher dividend in the FTSE Bursa Malaysia Kuala Lumpur Composite Index, offering returns of 7.13% - 6.37% - 5.84% - respectively.'}, {'url': 'https://www.tradingview.com/markets/stocks-malaysia/market-movers-high-dividend/', 'content': 'Malaysian companies with the highest dividend yields. High dividends could signify a source of stable gains. Malaysian companies below pay the highest dividends in the market: see them sorted by forward dividend yield and check out other stats too. Some people pursue a strategy of investing in these dividend Malaysian stocks so they can get ...'}]\", name='tavily_search_results_json', id='50484939-efd0-4967-b6fe-09b3ca5fbd6a', tool_call_id='call_2VS5gXhuDTAASzxctQF3yIUv'), AIMessage(content=\"Based on the search results, the top dividend-paying companies in Malaysia's KLCI over the past 3 years are from sectors such as banks and travel and leisure. The average dividend yield for Malaysia is around 4.34%, with banks offering returns of 7.13%, and travel and leisure companies offering returns of 6.37% and 5.84% respectively.\\n\\nFor more specific details on the companies with the highest dividend yields in the market, you may want to explore sources that provide a list of Malaysian companies with the highest dividend yields sorted by forward dividend yield and other relevant statistics.\", response_metadata={'token_usage': {'completion_tokens': 123, 'prompt_tokens': 957, 'total_tokens': 1080}, 'model_name': 'gpt-3.5-turbo', 'system_fingerprint': None, 'finish_reason': 'stop', 'logprobs': None}, id='run-eb468255-ee95-4c39-9a2e-1e2b7fcbf119-0')]}\n",
      "{'messages': [AIMessage(content=\"Based on the search results, the top dividend-paying companies in Malaysia's KLCI over the past 3 years are from sectors such as banks and travel and leisure. The average dividend yield for Malaysia is around 4.34%, with banks offering returns of 7.13%, and travel and leisure companies offering returns of 6.37% and 5.84% respectively.\\n\\nFor more specific details on the companies with the highest dividend yields in the market, you may want to explore sources that provide a list of Malaysian companies with the highest dividend yields sorted by forward dividend yield and other relevant statistics.\", response_metadata={'token_usage': {'completion_tokens': 123, 'prompt_tokens': 957, 'total_tokens': 1080}, 'model_name': 'gpt-3.5-turbo', 'system_fingerprint': None, 'finish_reason': 'stop', 'logprobs': None}, id='run-eb468255-ee95-4c39-9a2e-1e2b7fcbf119-0')]}\n"
     ]
    }
   ],
   "source": [
    "for event in abot.graph.stream(None, thread):\n",
    "    for v in event.values():\n",
    "        print(v)"
   ]
  },
  {
   "cell_type": "code",
   "execution_count": null,
   "id": "258bbdd3",
   "metadata": {},
   "outputs": [],
   "source": []
  },
  {
   "cell_type": "code",
   "execution_count": null,
   "id": "52cad6a8",
   "metadata": {},
   "outputs": [],
   "source": []
  },
  {
   "cell_type": "code",
   "execution_count": null,
   "id": "40b3e4ed",
   "metadata": {},
   "outputs": [],
   "source": []
  }
 ],
 "metadata": {
  "kernelspec": {
   "display_name": "selenium_test",
   "language": "python",
   "name": "selenium_test"
  },
  "language_info": {
   "codemirror_mode": {
    "name": "ipython",
    "version": 3
   },
   "file_extension": ".py",
   "mimetype": "text/x-python",
   "name": "python",
   "nbconvert_exporter": "python",
   "pygments_lexer": "ipython3",
   "version": "3.9.13"
  },
  "toc": {
   "base_numbering": 1,
   "nav_menu": {},
   "number_sections": true,
   "sideBar": true,
   "skip_h1_title": false,
   "title_cell": "Table of Contents",
   "title_sidebar": "Contents",
   "toc_cell": false,
   "toc_position": {},
   "toc_section_display": true,
   "toc_window_display": false
  }
 },
 "nbformat": 4,
 "nbformat_minor": 5
}
